{
 "cells": [
  {
   "cell_type": "code",
   "execution_count": 1,
   "metadata": {},
   "outputs": [
    {
     "name": "stdout",
     "output_type": "stream",
     "text": [
      "  ID  Oxygen  PulseRate  Temperature    Result\n",
      "0  0    98.0       65.0         95.0  Negative\n",
      "1  1    96.0       92.0         95.0  Negative\n",
      "2  2    95.0       92.0         99.0  Negative\n",
      "3  3    97.0       56.0         96.0  Negative\n",
      "4  4    88.0       94.0         98.0  Positive\n"
     ]
    }
   ],
   "source": [
    "import pandas as pd\n",
    "\n",
    "# Đọc dữ liệu từ file CSV\n",
    "data = pd.read_csv('qt_dataset.csv', encoding='latin-1')\n",
    "\n",
    "# Hiển thị 5 dòng đầu tiên của dữ liệu\n",
    "print(data.head())"
   ]
  },
  {
   "cell_type": "code",
   "execution_count": 2,
   "metadata": {},
   "outputs": [],
   "source": [
    "# data.dropna()\n",
    "\n",
    "# Chuyển đổi cột Temperature từ độ F sang độ C\n",
    "data['Temperature'] = (data['Temperature'] - 32) * 5/9\n",
    "\n",
    "# Chuyển đổi cột Result từ dạng text sang dạng số\n",
    "# Thay thế các giá trị NaN bằng 0 trước khi chuyển đổi kiểu dữ liệu\n",
    "data['Result'] = data['Result'].map({'Negative': 0, 'Positive': 1}).fillna(0).astype(int)"
   ]
  },
  {
   "cell_type": "code",
   "execution_count": 3,
   "metadata": {},
   "outputs": [
    {
     "name": "stdout",
     "output_type": "stream",
     "text": [
      "  ID  Oxygen  PulseRate  Temperature  Result\n",
      "0  0    98.0       65.0    35.000000       0\n",
      "1  1    96.0       92.0    35.000000       0\n",
      "2  2    95.0       92.0    37.222222       0\n",
      "3  3    97.0       56.0    35.555556       0\n",
      "4  4    88.0       94.0    36.666667       1\n"
     ]
    }
   ],
   "source": [
    "print(data.head())"
   ]
  },
  {
   "cell_type": "code",
   "execution_count": 4,
   "metadata": {},
   "outputs": [],
   "source": [
    "X = data[['Oxygen', 'PulseRate', 'Temperature']]\n",
    "Y = data['Result']"
   ]
  },
  {
   "cell_type": "code",
   "execution_count": 5,
   "metadata": {},
   "outputs": [
    {
     "name": "stdout",
     "output_type": "stream",
     "text": [
      "WARNING:tensorflow:From c:\\Users\\ADMIN\\AppData\\Local\\Programs\\Python\\Python310\\lib\\site-packages\\keras\\src\\losses.py:2976: The name tf.losses.sparse_softmax_cross_entropy is deprecated. Please use tf.compat.v1.losses.sparse_softmax_cross_entropy instead.\n",
      "\n",
      "WARNING:tensorflow:From c:\\Users\\ADMIN\\AppData\\Local\\Programs\\Python\\Python310\\lib\\site-packages\\keras\\src\\backend.py:873: The name tf.get_default_graph is deprecated. Please use tf.compat.v1.get_default_graph instead.\n",
      "\n"
     ]
    }
   ],
   "source": [
    "from keras.models import Sequential\n",
    "from keras.layers import Dense\n",
    "import matplotlib.pyplot as plt\n",
    "\n",
    "model = Sequential()\n",
    "model.add(Dense(12, input_dim=3, activation='relu'))\n",
    "model.add(Dense(8, activation='relu'))\n",
    "model.add(Dense(1, activation='sigmoid'))"
   ]
  },
  {
   "cell_type": "code",
   "execution_count": 6,
   "metadata": {},
   "outputs": [
    {
     "name": "stdout",
     "output_type": "stream",
     "text": [
      "WARNING:tensorflow:From c:\\Users\\ADMIN\\AppData\\Local\\Programs\\Python\\Python310\\lib\\site-packages\\keras\\src\\optimizers\\__init__.py:309: The name tf.train.Optimizer is deprecated. Please use tf.compat.v1.train.Optimizer instead.\n",
      "\n"
     ]
    }
   ],
   "source": [
    "# Compile model\n",
    "model.compile(loss='binary_crossentropy', optimizer='adam', metrics=['accuracy'])"
   ]
  },
  {
   "cell_type": "code",
   "execution_count": 7,
   "metadata": {},
   "outputs": [
    {
     "name": "stdout",
     "output_type": "stream",
     "text": [
      "Epoch 1/150\n",
      "WARNING:tensorflow:From c:\\Users\\ADMIN\\AppData\\Local\\Programs\\Python\\Python310\\lib\\site-packages\\keras\\src\\utils\\tf_utils.py:492: The name tf.ragged.RaggedTensorValue is deprecated. Please use tf.compat.v1.ragged.RaggedTensorValue instead.\n",
      "\n",
      "WARNING:tensorflow:From c:\\Users\\ADMIN\\AppData\\Local\\Programs\\Python\\Python310\\lib\\site-packages\\keras\\src\\engine\\base_layer_utils.py:384: The name tf.executing_eagerly_outside_functions is deprecated. Please use tf.compat.v1.executing_eagerly_outside_functions instead.\n",
      "\n",
      "671/671 [==============================] - 3s 3ms/step - loss: 0.7099 - accuracy: 0.6013 - val_loss: 0.6217 - val_accuracy: 0.6268\n",
      "Epoch 2/150\n",
      "671/671 [==============================] - 1s 2ms/step - loss: 0.5841 - accuracy: 0.6792 - val_loss: 0.5447 - val_accuracy: 0.7673\n",
      "Epoch 3/150\n",
      "671/671 [==============================] - 2s 3ms/step - loss: 0.4673 - accuracy: 0.8032 - val_loss: 0.3865 - val_accuracy: 0.8616\n",
      "Epoch 4/150\n",
      "671/671 [==============================] - 4s 5ms/step - loss: 0.3413 - accuracy: 0.8572 - val_loss: 0.3467 - val_accuracy: 0.8297\n",
      "Epoch 5/150\n",
      "671/671 [==============================] - 3s 4ms/step - loss: 0.2950 - accuracy: 0.8642 - val_loss: 0.2834 - val_accuracy: 0.8755\n",
      "Epoch 6/150\n",
      "671/671 [==============================] - 2s 3ms/step - loss: 0.2842 - accuracy: 0.8724 - val_loss: 0.2767 - val_accuracy: 0.8737\n",
      "Epoch 7/150\n",
      "671/671 [==============================] - 2s 3ms/step - loss: 0.2799 - accuracy: 0.8676 - val_loss: 0.2690 - val_accuracy: 0.8761\n",
      "Epoch 8/150\n",
      "671/671 [==============================] - 2s 3ms/step - loss: 0.2731 - accuracy: 0.8752 - val_loss: 0.3143 - val_accuracy: 0.8491\n",
      "Epoch 9/150\n",
      "671/671 [==============================] - 2s 3ms/step - loss: 0.2712 - accuracy: 0.8742 - val_loss: 0.2692 - val_accuracy: 0.8785\n",
      "Epoch 10/150\n",
      "671/671 [==============================] - 2s 3ms/step - loss: 0.2802 - accuracy: 0.8691 - val_loss: 0.3245 - val_accuracy: 0.8485\n",
      "Epoch 11/150\n",
      "671/671 [==============================] - 2s 3ms/step - loss: 0.2676 - accuracy: 0.8730 - val_loss: 0.2840 - val_accuracy: 0.8643\n",
      "Epoch 12/150\n",
      "671/671 [==============================] - 2s 3ms/step - loss: 0.2682 - accuracy: 0.8730 - val_loss: 0.2927 - val_accuracy: 0.8631\n",
      "Epoch 13/150\n",
      "671/671 [==============================] - 3s 5ms/step - loss: 0.2683 - accuracy: 0.8751 - val_loss: 0.2939 - val_accuracy: 0.8616\n",
      "Epoch 14/150\n",
      "671/671 [==============================] - 3s 4ms/step - loss: 0.2666 - accuracy: 0.8743 - val_loss: 0.2694 - val_accuracy: 0.8773\n",
      "Epoch 15/150\n",
      "671/671 [==============================] - 3s 4ms/step - loss: 0.2668 - accuracy: 0.8739 - val_loss: 0.2622 - val_accuracy: 0.8779\n",
      "Epoch 16/150\n",
      "671/671 [==============================] - 3s 4ms/step - loss: 0.2665 - accuracy: 0.8775 - val_loss: 0.2594 - val_accuracy: 0.8837\n",
      "Epoch 17/150\n",
      "671/671 [==============================] - 2s 3ms/step - loss: 0.2617 - accuracy: 0.8772 - val_loss: 0.2698 - val_accuracy: 0.8767\n",
      "Epoch 18/150\n",
      "671/671 [==============================] - 2s 3ms/step - loss: 0.2655 - accuracy: 0.8732 - val_loss: 0.2594 - val_accuracy: 0.8852\n",
      "Epoch 19/150\n",
      "671/671 [==============================] - 2s 3ms/step - loss: 0.2638 - accuracy: 0.8748 - val_loss: 0.2608 - val_accuracy: 0.8849\n",
      "Epoch 20/150\n",
      "671/671 [==============================] - 3s 4ms/step - loss: 0.2602 - accuracy: 0.8794 - val_loss: 0.2829 - val_accuracy: 0.8703\n",
      "Epoch 21/150\n",
      "671/671 [==============================] - 2s 3ms/step - loss: 0.2649 - accuracy: 0.8694 - val_loss: 0.3601 - val_accuracy: 0.8349\n",
      "Epoch 22/150\n",
      "671/671 [==============================] - 2s 4ms/step - loss: 0.2584 - accuracy: 0.8784 - val_loss: 0.2618 - val_accuracy: 0.8749\n",
      "Epoch 23/150\n",
      "671/671 [==============================] - 2s 3ms/step - loss: 0.2564 - accuracy: 0.8763 - val_loss: 0.2578 - val_accuracy: 0.8846\n",
      "Epoch 24/150\n",
      "671/671 [==============================] - 2s 3ms/step - loss: 0.2607 - accuracy: 0.8751 - val_loss: 0.2633 - val_accuracy: 0.8800\n",
      "Epoch 25/150\n",
      "671/671 [==============================] - 2s 3ms/step - loss: 0.2543 - accuracy: 0.8797 - val_loss: 0.2808 - val_accuracy: 0.8700\n",
      "Epoch 26/150\n",
      "671/671 [==============================] - 2s 3ms/step - loss: 0.2565 - accuracy: 0.8794 - val_loss: 0.2878 - val_accuracy: 0.8652\n",
      "Epoch 27/150\n",
      "671/671 [==============================] - 2s 3ms/step - loss: 0.2541 - accuracy: 0.8790 - val_loss: 0.2565 - val_accuracy: 0.8837\n",
      "Epoch 28/150\n",
      "671/671 [==============================] - 4s 5ms/step - loss: 0.2528 - accuracy: 0.8806 - val_loss: 0.2785 - val_accuracy: 0.8655\n",
      "Epoch 29/150\n",
      "671/671 [==============================] - 2s 3ms/step - loss: 0.2528 - accuracy: 0.8815 - val_loss: 0.3206 - val_accuracy: 0.8479\n",
      "Epoch 30/150\n",
      "671/671 [==============================] - 2s 3ms/step - loss: 0.2532 - accuracy: 0.8832 - val_loss: 0.2488 - val_accuracy: 0.8919\n",
      "Epoch 31/150\n",
      "671/671 [==============================] - 2s 3ms/step - loss: 0.2530 - accuracy: 0.8797 - val_loss: 0.2682 - val_accuracy: 0.8743\n",
      "Epoch 32/150\n",
      "671/671 [==============================] - 2s 3ms/step - loss: 0.2490 - accuracy: 0.8797 - val_loss: 0.2601 - val_accuracy: 0.8816\n",
      "Epoch 33/150\n",
      "671/671 [==============================] - 2s 3ms/step - loss: 0.2514 - accuracy: 0.8814 - val_loss: 0.2612 - val_accuracy: 0.8791\n",
      "Epoch 34/150\n",
      "671/671 [==============================] - 2s 3ms/step - loss: 0.2529 - accuracy: 0.8806 - val_loss: 0.2512 - val_accuracy: 0.8900\n",
      "Epoch 35/150\n",
      "671/671 [==============================] - 2s 4ms/step - loss: 0.2481 - accuracy: 0.8846 - val_loss: 0.2669 - val_accuracy: 0.8737\n",
      "Epoch 36/150\n",
      "671/671 [==============================] - 2s 3ms/step - loss: 0.2512 - accuracy: 0.8803 - val_loss: 0.2868 - val_accuracy: 0.8649\n",
      "Epoch 37/150\n",
      "671/671 [==============================] - 2s 3ms/step - loss: 0.2506 - accuracy: 0.8857 - val_loss: 0.2461 - val_accuracy: 0.8864\n",
      "Epoch 38/150\n",
      "671/671 [==============================] - 3s 4ms/step - loss: 0.2544 - accuracy: 0.8839 - val_loss: 0.2437 - val_accuracy: 0.8949\n",
      "Epoch 39/150\n",
      "671/671 [==============================] - 2s 3ms/step - loss: 0.2454 - accuracy: 0.8839 - val_loss: 0.2699 - val_accuracy: 0.8746\n",
      "Epoch 40/150\n",
      "671/671 [==============================] - 3s 4ms/step - loss: 0.2494 - accuracy: 0.8851 - val_loss: 0.2450 - val_accuracy: 0.8915\n",
      "Epoch 41/150\n",
      "671/671 [==============================] - 3s 4ms/step - loss: 0.2467 - accuracy: 0.8830 - val_loss: 0.2423 - val_accuracy: 0.8897\n",
      "Epoch 42/150\n",
      "671/671 [==============================] - 2s 3ms/step - loss: 0.2476 - accuracy: 0.8832 - val_loss: 0.2491 - val_accuracy: 0.8867\n",
      "Epoch 43/150\n",
      "671/671 [==============================] - 2s 3ms/step - loss: 0.2522 - accuracy: 0.8835 - val_loss: 0.2552 - val_accuracy: 0.8876\n",
      "Epoch 44/150\n",
      "671/671 [==============================] - 2s 2ms/step - loss: 0.2431 - accuracy: 0.8869 - val_loss: 0.2458 - val_accuracy: 0.8988\n",
      "Epoch 45/150\n",
      "671/671 [==============================] - 1s 2ms/step - loss: 0.2416 - accuracy: 0.8849 - val_loss: 0.2397 - val_accuracy: 0.8897\n",
      "Epoch 46/150\n",
      "671/671 [==============================] - 2s 2ms/step - loss: 0.2429 - accuracy: 0.8875 - val_loss: 0.2497 - val_accuracy: 0.8885\n",
      "Epoch 47/150\n",
      "671/671 [==============================] - 2s 2ms/step - loss: 0.2445 - accuracy: 0.8863 - val_loss: 0.2410 - val_accuracy: 0.8964\n",
      "Epoch 48/150\n",
      "671/671 [==============================] - 2s 2ms/step - loss: 0.2414 - accuracy: 0.8872 - val_loss: 0.3021 - val_accuracy: 0.8679\n",
      "Epoch 49/150\n",
      "671/671 [==============================] - 1s 2ms/step - loss: 0.2480 - accuracy: 0.8861 - val_loss: 0.2563 - val_accuracy: 0.8840\n",
      "Epoch 50/150\n",
      "671/671 [==============================] - 1s 2ms/step - loss: 0.2415 - accuracy: 0.8869 - val_loss: 0.2711 - val_accuracy: 0.8722\n",
      "Epoch 51/150\n",
      "671/671 [==============================] - 1s 2ms/step - loss: 0.2349 - accuracy: 0.8911 - val_loss: 0.2795 - val_accuracy: 0.8679\n",
      "Epoch 52/150\n",
      "671/671 [==============================] - 1s 2ms/step - loss: 0.2392 - accuracy: 0.8861 - val_loss: 0.2389 - val_accuracy: 0.8888\n",
      "Epoch 53/150\n",
      "671/671 [==============================] - 1s 2ms/step - loss: 0.2417 - accuracy: 0.8870 - val_loss: 0.2687 - val_accuracy: 0.8740\n",
      "Epoch 54/150\n",
      "671/671 [==============================] - 1s 2ms/step - loss: 0.2412 - accuracy: 0.8861 - val_loss: 0.2381 - val_accuracy: 0.8985\n",
      "Epoch 55/150\n",
      "671/671 [==============================] - 2s 2ms/step - loss: 0.2405 - accuracy: 0.8882 - val_loss: 0.2795 - val_accuracy: 0.8713\n",
      "Epoch 56/150\n",
      "671/671 [==============================] - 1s 2ms/step - loss: 0.2381 - accuracy: 0.8869 - val_loss: 0.2416 - val_accuracy: 0.9049\n",
      "Epoch 57/150\n",
      "671/671 [==============================] - 2s 2ms/step - loss: 0.2398 - accuracy: 0.8881 - val_loss: 0.2494 - val_accuracy: 0.8909\n",
      "Epoch 58/150\n",
      "671/671 [==============================] - 1s 2ms/step - loss: 0.2382 - accuracy: 0.8933 - val_loss: 0.2395 - val_accuracy: 0.8943\n",
      "Epoch 59/150\n",
      "671/671 [==============================] - 2s 2ms/step - loss: 0.2329 - accuracy: 0.8915 - val_loss: 0.2341 - val_accuracy: 0.8912\n",
      "Epoch 60/150\n",
      "671/671 [==============================] - 1s 2ms/step - loss: 0.2369 - accuracy: 0.8912 - val_loss: 0.2367 - val_accuracy: 0.8988\n",
      "Epoch 61/150\n",
      "671/671 [==============================] - 2s 3ms/step - loss: 0.2341 - accuracy: 0.8897 - val_loss: 0.2395 - val_accuracy: 0.8922\n",
      "Epoch 62/150\n",
      "671/671 [==============================] - 2s 3ms/step - loss: 0.2348 - accuracy: 0.8906 - val_loss: 0.2844 - val_accuracy: 0.8725\n",
      "Epoch 63/150\n",
      "671/671 [==============================] - 2s 3ms/step - loss: 0.2327 - accuracy: 0.8882 - val_loss: 0.2603 - val_accuracy: 0.8806\n",
      "Epoch 64/150\n",
      "671/671 [==============================] - 2s 3ms/step - loss: 0.2343 - accuracy: 0.8860 - val_loss: 0.2468 - val_accuracy: 0.8952\n",
      "Epoch 65/150\n",
      "671/671 [==============================] - 2s 2ms/step - loss: 0.2316 - accuracy: 0.8878 - val_loss: 0.2568 - val_accuracy: 0.8925\n",
      "Epoch 66/150\n",
      "671/671 [==============================] - 2s 2ms/step - loss: 0.2324 - accuracy: 0.8940 - val_loss: 0.2609 - val_accuracy: 0.8791\n",
      "Epoch 67/150\n",
      "671/671 [==============================] - 2s 3ms/step - loss: 0.2298 - accuracy: 0.8905 - val_loss: 0.2346 - val_accuracy: 0.9022\n",
      "Epoch 68/150\n",
      "671/671 [==============================] - 2s 2ms/step - loss: 0.2258 - accuracy: 0.8948 - val_loss: 0.2274 - val_accuracy: 0.9022\n",
      "Epoch 69/150\n",
      "671/671 [==============================] - 2s 2ms/step - loss: 0.2299 - accuracy: 0.8932 - val_loss: 0.2688 - val_accuracy: 0.8746\n",
      "Epoch 70/150\n",
      "671/671 [==============================] - 2s 3ms/step - loss: 0.2316 - accuracy: 0.8903 - val_loss: 0.2272 - val_accuracy: 0.9046\n",
      "Epoch 71/150\n",
      "671/671 [==============================] - 2s 3ms/step - loss: 0.2308 - accuracy: 0.8903 - val_loss: 0.2340 - val_accuracy: 0.9003\n",
      "Epoch 72/150\n",
      "671/671 [==============================] - 3s 5ms/step - loss: 0.2272 - accuracy: 0.8921 - val_loss: 0.2306 - val_accuracy: 0.9025\n",
      "Epoch 73/150\n",
      "671/671 [==============================] - 3s 4ms/step - loss: 0.2274 - accuracy: 0.8946 - val_loss: 0.3451 - val_accuracy: 0.8443\n",
      "Epoch 74/150\n",
      "671/671 [==============================] - 2s 3ms/step - loss: 0.2278 - accuracy: 0.8918 - val_loss: 0.2257 - val_accuracy: 0.8979\n",
      "Epoch 75/150\n",
      "671/671 [==============================] - 2s 3ms/step - loss: 0.2217 - accuracy: 0.8945 - val_loss: 0.2312 - val_accuracy: 0.8979\n",
      "Epoch 76/150\n",
      "671/671 [==============================] - 2s 3ms/step - loss: 0.2322 - accuracy: 0.8911 - val_loss: 0.2444 - val_accuracy: 0.8879\n",
      "Epoch 77/150\n",
      "671/671 [==============================] - 2s 3ms/step - loss: 0.2268 - accuracy: 0.8969 - val_loss: 0.2541 - val_accuracy: 0.8779\n",
      "Epoch 78/150\n",
      "671/671 [==============================] - 2s 2ms/step - loss: 0.2267 - accuracy: 0.8958 - val_loss: 0.2345 - val_accuracy: 0.8976\n",
      "Epoch 79/150\n",
      "671/671 [==============================] - 2s 2ms/step - loss: 0.2287 - accuracy: 0.8951 - val_loss: 0.2320 - val_accuracy: 0.9043\n",
      "Epoch 80/150\n",
      "671/671 [==============================] - 2s 2ms/step - loss: 0.2221 - accuracy: 0.8930 - val_loss: 0.2229 - val_accuracy: 0.9085\n",
      "Epoch 81/150\n",
      "671/671 [==============================] - 2s 2ms/step - loss: 0.2216 - accuracy: 0.8973 - val_loss: 0.2235 - val_accuracy: 0.9061\n",
      "Epoch 82/150\n",
      "671/671 [==============================] - 2s 3ms/step - loss: 0.2241 - accuracy: 0.8952 - val_loss: 0.2404 - val_accuracy: 0.8955\n",
      "Epoch 83/150\n",
      "671/671 [==============================] - 2s 2ms/step - loss: 0.2320 - accuracy: 0.8920 - val_loss: 0.2244 - val_accuracy: 0.9058\n",
      "Epoch 84/150\n",
      "671/671 [==============================] - 2s 2ms/step - loss: 0.2227 - accuracy: 0.8958 - val_loss: 0.2268 - val_accuracy: 0.8985\n",
      "Epoch 85/150\n",
      "671/671 [==============================] - 2s 2ms/step - loss: 0.2239 - accuracy: 0.8946 - val_loss: 0.2222 - val_accuracy: 0.9064\n",
      "Epoch 86/150\n",
      "671/671 [==============================] - 2s 2ms/step - loss: 0.2250 - accuracy: 0.8948 - val_loss: 0.2206 - val_accuracy: 0.9091\n",
      "Epoch 87/150\n",
      "671/671 [==============================] - 2s 2ms/step - loss: 0.2237 - accuracy: 0.8957 - val_loss: 0.2198 - val_accuracy: 0.9076\n",
      "Epoch 88/150\n",
      "671/671 [==============================] - 2s 2ms/step - loss: 0.2223 - accuracy: 0.8964 - val_loss: 0.2334 - val_accuracy: 0.8903\n",
      "Epoch 89/150\n",
      "671/671 [==============================] - 2s 2ms/step - loss: 0.2254 - accuracy: 0.8964 - val_loss: 0.2241 - val_accuracy: 0.9064\n",
      "Epoch 90/150\n",
      "671/671 [==============================] - 1s 2ms/step - loss: 0.2185 - accuracy: 0.9017 - val_loss: 0.2459 - val_accuracy: 0.8837\n",
      "Epoch 91/150\n",
      "671/671 [==============================] - 2s 2ms/step - loss: 0.2207 - accuracy: 0.8997 - val_loss: 0.2525 - val_accuracy: 0.8809\n",
      "Epoch 92/150\n",
      "671/671 [==============================] - 2s 3ms/step - loss: 0.2186 - accuracy: 0.9006 - val_loss: 0.2326 - val_accuracy: 0.9049\n",
      "Epoch 93/150\n",
      "671/671 [==============================] - 2s 3ms/step - loss: 0.2157 - accuracy: 0.9011 - val_loss: 0.2172 - val_accuracy: 0.9082\n",
      "Epoch 94/150\n",
      "671/671 [==============================] - 2s 3ms/step - loss: 0.2246 - accuracy: 0.8954 - val_loss: 0.2231 - val_accuracy: 0.9064\n",
      "Epoch 95/150\n",
      "671/671 [==============================] - 2s 2ms/step - loss: 0.2179 - accuracy: 0.8999 - val_loss: 0.2178 - val_accuracy: 0.9085\n",
      "Epoch 96/150\n",
      "671/671 [==============================] - 1s 2ms/step - loss: 0.2163 - accuracy: 0.8984 - val_loss: 0.2310 - val_accuracy: 0.8934\n",
      "Epoch 97/150\n",
      "671/671 [==============================] - 2s 3ms/step - loss: 0.2145 - accuracy: 0.9009 - val_loss: 0.2186 - val_accuracy: 0.9037\n",
      "Epoch 98/150\n",
      "671/671 [==============================] - 2s 2ms/step - loss: 0.2197 - accuracy: 0.8979 - val_loss: 0.2193 - val_accuracy: 0.9003\n",
      "Epoch 99/150\n",
      "671/671 [==============================] - 2s 3ms/step - loss: 0.2155 - accuracy: 0.8999 - val_loss: 0.2202 - val_accuracy: 0.9094\n",
      "Epoch 100/150\n",
      "671/671 [==============================] - 2s 2ms/step - loss: 0.2173 - accuracy: 0.9002 - val_loss: 0.2342 - val_accuracy: 0.8970\n",
      "Epoch 101/150\n",
      "671/671 [==============================] - 2s 2ms/step - loss: 0.2119 - accuracy: 0.9027 - val_loss: 0.2397 - val_accuracy: 0.8876\n",
      "Epoch 102/150\n",
      "671/671 [==============================] - 2s 2ms/step - loss: 0.2166 - accuracy: 0.8994 - val_loss: 0.2478 - val_accuracy: 0.8943\n",
      "Epoch 103/150\n",
      "671/671 [==============================] - 2s 3ms/step - loss: 0.2114 - accuracy: 0.9014 - val_loss: 0.2219 - val_accuracy: 0.9022\n",
      "Epoch 104/150\n",
      "671/671 [==============================] - 2s 2ms/step - loss: 0.2132 - accuracy: 0.9031 - val_loss: 0.2230 - val_accuracy: 0.8967\n",
      "Epoch 105/150\n",
      "671/671 [==============================] - 1s 2ms/step - loss: 0.2133 - accuracy: 0.9014 - val_loss: 0.2151 - val_accuracy: 0.9112\n",
      "Epoch 106/150\n",
      "671/671 [==============================] - 2s 2ms/step - loss: 0.2155 - accuracy: 0.9023 - val_loss: 0.2140 - val_accuracy: 0.9073\n",
      "Epoch 107/150\n",
      "671/671 [==============================] - 2s 2ms/step - loss: 0.2112 - accuracy: 0.9027 - val_loss: 0.2181 - val_accuracy: 0.9037\n",
      "Epoch 108/150\n",
      "671/671 [==============================] - 1s 2ms/step - loss: 0.2090 - accuracy: 0.9017 - val_loss: 0.2398 - val_accuracy: 0.8967\n",
      "Epoch 109/150\n",
      "671/671 [==============================] - 1s 2ms/step - loss: 0.2093 - accuracy: 0.9021 - val_loss: 0.2103 - val_accuracy: 0.9173\n",
      "Epoch 110/150\n",
      "671/671 [==============================] - 2s 2ms/step - loss: 0.2085 - accuracy: 0.9021 - val_loss: 0.2201 - val_accuracy: 0.9009\n",
      "Epoch 111/150\n",
      "671/671 [==============================] - 2s 2ms/step - loss: 0.2095 - accuracy: 0.9018 - val_loss: 0.2099 - val_accuracy: 0.9146\n",
      "Epoch 112/150\n",
      "671/671 [==============================] - 2s 2ms/step - loss: 0.2084 - accuracy: 0.9024 - val_loss: 0.2285 - val_accuracy: 0.8925\n",
      "Epoch 113/150\n",
      "671/671 [==============================] - 2s 3ms/step - loss: 0.2097 - accuracy: 0.9029 - val_loss: 0.2668 - val_accuracy: 0.8673\n",
      "Epoch 114/150\n",
      "671/671 [==============================] - 2s 2ms/step - loss: 0.2101 - accuracy: 0.9043 - val_loss: 0.2103 - val_accuracy: 0.9152\n",
      "Epoch 115/150\n",
      "671/671 [==============================] - 2s 2ms/step - loss: 0.2083 - accuracy: 0.9043 - val_loss: 0.2437 - val_accuracy: 0.8937\n",
      "Epoch 116/150\n",
      "671/671 [==============================] - 2s 2ms/step - loss: 0.2113 - accuracy: 0.8990 - val_loss: 0.2170 - val_accuracy: 0.9034\n",
      "Epoch 117/150\n",
      "671/671 [==============================] - 2s 2ms/step - loss: 0.2070 - accuracy: 0.9058 - val_loss: 0.2044 - val_accuracy: 0.9173\n",
      "Epoch 118/150\n",
      "671/671 [==============================] - 2s 2ms/step - loss: 0.2008 - accuracy: 0.9037 - val_loss: 0.2494 - val_accuracy: 0.8779\n",
      "Epoch 119/150\n",
      "671/671 [==============================] - 2s 3ms/step - loss: 0.2013 - accuracy: 0.9057 - val_loss: 0.2032 - val_accuracy: 0.9167\n",
      "Epoch 120/150\n",
      "671/671 [==============================] - 2s 2ms/step - loss: 0.2058 - accuracy: 0.9045 - val_loss: 0.2053 - val_accuracy: 0.9197\n",
      "Epoch 121/150\n",
      "671/671 [==============================] - 2s 2ms/step - loss: 0.2033 - accuracy: 0.9036 - val_loss: 0.2192 - val_accuracy: 0.9018\n",
      "Epoch 122/150\n",
      "671/671 [==============================] - 1s 2ms/step - loss: 0.2035 - accuracy: 0.9049 - val_loss: 0.2173 - val_accuracy: 0.9031\n",
      "Epoch 123/150\n",
      "671/671 [==============================] - 2s 2ms/step - loss: 0.2060 - accuracy: 0.9067 - val_loss: 0.2082 - val_accuracy: 0.9173\n",
      "Epoch 124/150\n",
      "671/671 [==============================] - 2s 2ms/step - loss: 0.2041 - accuracy: 0.9073 - val_loss: 0.2103 - val_accuracy: 0.9000\n",
      "Epoch 125/150\n",
      "671/671 [==============================] - 2s 2ms/step - loss: 0.2053 - accuracy: 0.9052 - val_loss: 0.2025 - val_accuracy: 0.9103\n",
      "Epoch 126/150\n",
      "671/671 [==============================] - 2s 2ms/step - loss: 0.2016 - accuracy: 0.9075 - val_loss: 0.2181 - val_accuracy: 0.9031\n",
      "Epoch 127/150\n",
      "671/671 [==============================] - 2s 2ms/step - loss: 0.2004 - accuracy: 0.9076 - val_loss: 0.2066 - val_accuracy: 0.9046\n",
      "Epoch 128/150\n",
      "671/671 [==============================] - 2s 2ms/step - loss: 0.1967 - accuracy: 0.9094 - val_loss: 0.2018 - val_accuracy: 0.9121\n",
      "Epoch 129/150\n",
      "671/671 [==============================] - 2s 2ms/step - loss: 0.1990 - accuracy: 0.9106 - val_loss: 0.2023 - val_accuracy: 0.9094\n",
      "Epoch 130/150\n",
      "671/671 [==============================] - 1s 2ms/step - loss: 0.1979 - accuracy: 0.9088 - val_loss: 0.2031 - val_accuracy: 0.9082\n",
      "Epoch 131/150\n",
      "671/671 [==============================] - 2s 2ms/step - loss: 0.1971 - accuracy: 0.9108 - val_loss: 0.2046 - val_accuracy: 0.9179\n",
      "Epoch 132/150\n",
      "671/671 [==============================] - 2s 2ms/step - loss: 0.1931 - accuracy: 0.9130 - val_loss: 0.2403 - val_accuracy: 0.8915\n",
      "Epoch 133/150\n",
      "671/671 [==============================] - 2s 2ms/step - loss: 0.1979 - accuracy: 0.9091 - val_loss: 0.2139 - val_accuracy: 0.9009\n",
      "Epoch 134/150\n",
      "671/671 [==============================] - 2s 2ms/step - loss: 0.1937 - accuracy: 0.9090 - val_loss: 0.2837 - val_accuracy: 0.8691\n",
      "Epoch 135/150\n",
      "671/671 [==============================] - 1s 2ms/step - loss: 0.1948 - accuracy: 0.9126 - val_loss: 0.1988 - val_accuracy: 0.9167\n",
      "Epoch 136/150\n",
      "671/671 [==============================] - 2s 2ms/step - loss: 0.1930 - accuracy: 0.9117 - val_loss: 0.2008 - val_accuracy: 0.9215\n",
      "Epoch 137/150\n",
      "671/671 [==============================] - 2s 2ms/step - loss: 0.1943 - accuracy: 0.9128 - val_loss: 0.1982 - val_accuracy: 0.9094\n",
      "Epoch 138/150\n",
      "671/671 [==============================] - 2s 2ms/step - loss: 0.1952 - accuracy: 0.9102 - val_loss: 0.1950 - val_accuracy: 0.9218\n",
      "Epoch 139/150\n",
      "671/671 [==============================] - 2s 2ms/step - loss: 0.1945 - accuracy: 0.9085 - val_loss: 0.2050 - val_accuracy: 0.9197\n",
      "Epoch 140/150\n",
      "671/671 [==============================] - 2s 2ms/step - loss: 0.1899 - accuracy: 0.9118 - val_loss: 0.2296 - val_accuracy: 0.8961\n",
      "Epoch 141/150\n",
      "671/671 [==============================] - 2s 2ms/step - loss: 0.1898 - accuracy: 0.9131 - val_loss: 0.2397 - val_accuracy: 0.8882\n",
      "Epoch 142/150\n",
      "671/671 [==============================] - 2s 2ms/step - loss: 0.1965 - accuracy: 0.9100 - val_loss: 0.2178 - val_accuracy: 0.8979\n",
      "Epoch 143/150\n",
      "671/671 [==============================] - 1s 2ms/step - loss: 0.1936 - accuracy: 0.9073 - val_loss: 0.1963 - val_accuracy: 0.9215\n",
      "Epoch 144/150\n",
      "671/671 [==============================] - 2s 2ms/step - loss: 0.1920 - accuracy: 0.9142 - val_loss: 0.2412 - val_accuracy: 0.8909\n",
      "Epoch 145/150\n",
      "671/671 [==============================] - 2s 2ms/step - loss: 0.1957 - accuracy: 0.9100 - val_loss: 0.2108 - val_accuracy: 0.9025\n",
      "Epoch 146/150\n",
      "671/671 [==============================] - 2s 3ms/step - loss: 0.1857 - accuracy: 0.9152 - val_loss: 0.1962 - val_accuracy: 0.9206\n",
      "Epoch 147/150\n",
      "671/671 [==============================] - 2s 4ms/step - loss: 0.1880 - accuracy: 0.9140 - val_loss: 0.2256 - val_accuracy: 0.8976\n",
      "Epoch 148/150\n",
      "671/671 [==============================] - 2s 3ms/step - loss: 0.1927 - accuracy: 0.9082 - val_loss: 0.1931 - val_accuracy: 0.9234\n",
      "Epoch 149/150\n",
      "671/671 [==============================] - 3s 4ms/step - loss: 0.1882 - accuracy: 0.9149 - val_loss: 0.1887 - val_accuracy: 0.9231\n",
      "Epoch 150/150\n",
      "671/671 [==============================] - 3s 5ms/step - loss: 0.1885 - accuracy: 0.9133 - val_loss: 0.1991 - val_accuracy: 0.9218\n"
     ]
    }
   ],
   "source": [
    "history = model.fit(X, Y, validation_split=0.33, epochs=150, batch_size=10, verbose=1)"
   ]
  },
  {
   "cell_type": "code",
   "execution_count": 8,
   "metadata": {},
   "outputs": [
    {
     "name": "stdout",
     "output_type": "stream",
     "text": [
      "dict_keys(['loss', 'accuracy', 'val_loss', 'val_accuracy'])\n"
     ]
    }
   ],
   "source": [
    "print(history.history.keys())"
   ]
  },
  {
   "cell_type": "code",
   "execution_count": 9,
   "metadata": {},
   "outputs": [
    {
     "data": {
      "image/png": "[encoded data removed]",
      "text/plain": [
       "<Figure size 640x480 with 1 Axes>"
      ]
     },
     "metadata": {},
     "output_type": "display_data"
    },
    {
     "data": {
      "image/png": "[encoded data removed]",
      "text/plain": [
       "<Figure size 640x480 with 1 Axes>"
      ]
     },
     "metadata": {},
     "output_type": "display_data"
    }
   ],
   "source": [
    "# summarize history for accuracy\n",
    "plt.plot(history.history['accuracy'])\n",
    "plt.plot(history.history['val_accuracy'])\n",
    "plt.title('model accuracy')\n",
    "plt.ylabel('accuracy')\n",
    "plt.xlabel('epoch')\n",
    "plt.legend(['train', 'test'], loc='upper left')\n",
    "plt.show()\n",
    "# summarize history for loss\n",
    "plt.plot(history.history['loss'])\n",
    "plt.plot(history.history['val_loss'])\n",
    "plt.title('model loss')\n",
    "plt.ylabel('loss')\n",
    "plt.xlabel('epoch')\n",
    "plt.legend(['train', 'test'], loc='upper left')\n",
    "plt.show()"
   ]
  },
  {
   "cell_type": "code",
   "execution_count": 10,
   "metadata": {},
   "outputs": [
    {
     "name": "stdout",
     "output_type": "stream",
     "text": [
      "1/1 [==============================] - 0s 158ms/step\n",
      "[[0.9999995]]\n"
     ]
    }
   ],
   "source": [
    "# Tạo một DataFrame mới với các giá trị Oxygen, PulseRate và Temperature\n",
    "new_sample = pd.DataFrame({\n",
    "    'Oxygen': [70],\n",
    "    'PulseRate': [95],  \n",
    "    'Temperature': [39]  \n",
    "})\n",
    "\n",
    "prediction = model.predict(new_sample)\n",
    "\n",
    "# In ra xác suất bị COVID-19\n",
    "print(prediction)"
   ]
  },
  {
   "cell_type": "code",
   "execution_count": 11,
   "metadata": {},
   "outputs": [
    {
     "name": "stderr",
     "output_type": "stream",
     "text": [
      "c:\\Users\\ADMIN\\AppData\\Local\\Programs\\Python\\Python310\\lib\\site-packages\\keras\\src\\engine\\training.py:3103: UserWarning: You are saving your model as an HDF5 file via `model.save()`. This file format is considered legacy. We recommend using instead the native Keras format, e.g. `model.save('my_model.keras')`.\n",
      "  saving_api.save_model(\n"
     ]
    }
   ],
   "source": [
    "model.save(\"model.h5\")"
   ]
  },
  {
   "cell_type": "code",
   "execution_count": 12,
   "metadata": {},
   "outputs": [
    {
     "name": "stdout",
     "output_type": "stream",
     "text": [
      " * Serving Flask app '__main__'\n",
      " * Debug mode: off\n"
     ]
    },
    {
     "name": "stderr",
     "output_type": "stream",
     "text": [
      "WARNING: This is a development server. Do not use it in a production deployment. Use a production WSGI server instead.\n",
      " * Running on all addresses (0.0.0.0)\n",
      " * Running on http://127.0.0.1:5000\n",
      " * Running on http://192.168.1.8:5000\n",
      "Press CTRL+C to quit\n"
     ]
    },
    {
     "name": "stdout",
     "output_type": "stream",
     "text": [
      "1/1 [==============================] - 0s 161ms/step\n"
     ]
    },
    {
     "name": "stderr",
     "output_type": "stream",
     "text": [
      "C:\\Users\\ADMIN\\AppData\\Local\\Temp\\ipykernel_55156\\1994611631.py:20: DeprecationWarning: Conversion of an array with ndim > 0 to a scalar is deprecated, and will error in future. Ensure you extract a single element from your array before performing this operation. (Deprecated NumPy 1.25.)\n",
      "  response[\"result\"] = float(prediction)\n",
      "127.0.0.1 - - [23/Dec/2023 23:05:42] \"POST /predict HTTP/1.1\" 200 -\n"
     ]
    },
    {
     "name": "stdout",
     "output_type": "stream",
     "text": [
      "1/1 [==============================] - 0s 51ms/step\n"
     ]
    },
    {
     "name": "stderr",
     "output_type": "stream",
     "text": [
      "C:\\Users\\ADMIN\\AppData\\Local\\Temp\\ipykernel_55156\\1994611631.py:20: DeprecationWarning: Conversion of an array with ndim > 0 to a scalar is deprecated, and will error in future. Ensure you extract a single element from your array before performing this operation. (Deprecated NumPy 1.25.)\n",
      "  response[\"result\"] = float(prediction)\n",
      "127.0.0.1 - - [23/Dec/2023 23:06:12] \"POST /predict HTTP/1.1\" 200 -\n"
     ]
    },
    {
     "name": "stdout",
     "output_type": "stream",
     "text": [
      "1/1 [==============================] - 0s 50ms/step\n"
     ]
    },
    {
     "name": "stderr",
     "output_type": "stream",
     "text": [
      "C:\\Users\\ADMIN\\AppData\\Local\\Temp\\ipykernel_55156\\1994611631.py:20: DeprecationWarning: Conversion of an array with ndim > 0 to a scalar is deprecated, and will error in future. Ensure you extract a single element from your array before performing this operation. (Deprecated NumPy 1.25.)\n",
      "  response[\"result\"] = float(prediction)\n",
      "127.0.0.1 - - [23/Dec/2023 23:06:20] \"POST /predict HTTP/1.1\" 200 -\n"
     ]
    },
    {
     "name": "stdout",
     "output_type": "stream",
     "text": [
      "1/1 [==============================] - 0s 87ms/step\n"
     ]
    },
    {
     "name": "stderr",
     "output_type": "stream",
     "text": [
      "C:\\Users\\ADMIN\\AppData\\Local\\Temp\\ipykernel_55156\\1994611631.py:20: DeprecationWarning: Conversion of an array with ndim > 0 to a scalar is deprecated, and will error in future. Ensure you extract a single element from your array before performing this operation. (Deprecated NumPy 1.25.)\n",
      "  response[\"result\"] = float(prediction)\n",
      "127.0.0.1 - - [23/Dec/2023 23:08:06] \"POST /predict HTTP/1.1\" 200 -\n"
     ]
    },
    {
     "name": "stdout",
     "output_type": "stream",
     "text": [
      "1/1 [==============================] - 0s 39ms/step\n"
     ]
    },
    {
     "name": "stderr",
     "output_type": "stream",
     "text": [
      "C:\\Users\\ADMIN\\AppData\\Local\\Temp\\ipykernel_55156\\1994611631.py:20: DeprecationWarning: Conversion of an array with ndim > 0 to a scalar is deprecated, and will error in future. Ensure you extract a single element from your array before performing this operation. (Deprecated NumPy 1.25.)\n",
      "  response[\"result\"] = float(prediction)\n",
      "127.0.0.1 - - [23/Dec/2023 23:08:57] \"POST /predict HTTP/1.1\" 200 -\n"
     ]
    },
    {
     "name": "stdout",
     "output_type": "stream",
     "text": [
      "1/1 [==============================] - 0s 42ms/step\n"
     ]
    },
    {
     "name": "stderr",
     "output_type": "stream",
     "text": [
      "C:\\Users\\ADMIN\\AppData\\Local\\Temp\\ipykernel_55156\\1994611631.py:20: DeprecationWarning: Conversion of an array with ndim > 0 to a scalar is deprecated, and will error in future. Ensure you extract a single element from your array before performing this operation. (Deprecated NumPy 1.25.)\n",
      "  response[\"result\"] = float(prediction)\n",
      "127.0.0.1 - - [23/Dec/2023 23:14:40] \"POST /predict HTTP/1.1\" 200 -\n"
     ]
    },
    {
     "name": "stdout",
     "output_type": "stream",
     "text": [
      "1/1 [==============================] - 0s 41ms/step\n"
     ]
    },
    {
     "name": "stderr",
     "output_type": "stream",
     "text": [
      "C:\\Users\\ADMIN\\AppData\\Local\\Temp\\ipykernel_55156\\1994611631.py:20: DeprecationWarning: Conversion of an array with ndim > 0 to a scalar is deprecated, and will error in future. Ensure you extract a single element from your array before performing this operation. (Deprecated NumPy 1.25.)\n",
      "  response[\"result\"] = float(prediction)\n",
      "127.0.0.1 - - [23/Dec/2023 23:14:54] \"POST /predict HTTP/1.1\" 200 -\n"
     ]
    },
    {
     "name": "stdout",
     "output_type": "stream",
     "text": [
      "1/1 [==============================] - 0s 57ms/step\n"
     ]
    },
    {
     "name": "stderr",
     "output_type": "stream",
     "text": [
      "C:\\Users\\ADMIN\\AppData\\Local\\Temp\\ipykernel_55156\\1994611631.py:20: DeprecationWarning: Conversion of an array with ndim > 0 to a scalar is deprecated, and will error in future. Ensure you extract a single element from your array before performing this operation. (Deprecated NumPy 1.25.)\n",
      "  response[\"result\"] = float(prediction)\n",
      "127.0.0.1 - - [23/Dec/2023 23:15:30] \"POST /predict HTTP/1.1\" 200 -\n"
     ]
    },
    {
     "name": "stdout",
     "output_type": "stream",
     "text": [
      "1/1 [==============================] - 0s 35ms/step\n"
     ]
    },
    {
     "name": "stderr",
     "output_type": "stream",
     "text": [
      "C:\\Users\\ADMIN\\AppData\\Local\\Temp\\ipykernel_55156\\1994611631.py:20: DeprecationWarning: Conversion of an array with ndim > 0 to a scalar is deprecated, and will error in future. Ensure you extract a single element from your array before performing this operation. (Deprecated NumPy 1.25.)\n",
      "  response[\"result\"] = float(prediction)\n",
      "127.0.0.1 - - [23/Dec/2023 23:16:19] \"POST /predict HTTP/1.1\" 200 -\n"
     ]
    },
    {
     "name": "stdout",
     "output_type": "stream",
     "text": [
      "1/1 [==============================] - 0s 33ms/step\n"
     ]
    },
    {
     "name": "stderr",
     "output_type": "stream",
     "text": [
      "C:\\Users\\ADMIN\\AppData\\Local\\Temp\\ipykernel_55156\\1994611631.py:20: DeprecationWarning: Conversion of an array with ndim > 0 to a scalar is deprecated, and will error in future. Ensure you extract a single element from your array before performing this operation. (Deprecated NumPy 1.25.)\n",
      "  response[\"result\"] = float(prediction)\n",
      "127.0.0.1 - - [23/Dec/2023 23:16:29] \"POST /predict HTTP/1.1\" 200 -\n"
     ]
    },
    {
     "name": "stdout",
     "output_type": "stream",
     "text": [
      "1/1 [==============================] - 0s 42ms/step\n"
     ]
    },
    {
     "name": "stderr",
     "output_type": "stream",
     "text": [
      "C:\\Users\\ADMIN\\AppData\\Local\\Temp\\ipykernel_55156\\1994611631.py:20: DeprecationWarning: Conversion of an array with ndim > 0 to a scalar is deprecated, and will error in future. Ensure you extract a single element from your array before performing this operation. (Deprecated NumPy 1.25.)\n",
      "  response[\"result\"] = float(prediction)\n",
      "127.0.0.1 - - [23/Dec/2023 23:17:00] \"POST /predict HTTP/1.1\" 200 -\n"
     ]
    }
   ],
   "source": [
    "from flask import Flask, request, json, jsonify\n",
    "from keras.models import load_model\n",
    "\n",
    "app = Flask(__name__)\n",
    "\n",
    "filename = \"model.h5\"\n",
    "model = load_model(filename)\n",
    "\n",
    "\n",
    "@app.route(\"/predict\", methods=[\"POST\"])\n",
    "def predict():\n",
    "    feature = request.json\n",
    "    sample = pd.DataFrame({\n",
    "    'Oxygen': [feature['spo2']],\n",
    "    'PulseRate': [feature['bpm']],  \n",
    "    'Temperature': [feature['temp']]  \n",
    "    })\n",
    "    prediction = model.predict(sample)\n",
    "    response = {}\n",
    "    response[\"result\"] = float(prediction)\n",
    "    return jsonify(response)\n",
    "\n",
    "\n",
    "if __name__ == \"__main__\":\n",
    "    app.run(host=\"0.0.0.0\", port=5000)\n"
   ]
  }
 ],
 "metadata": {
  "kernelspec": {
   "display_name": "Python 3",
   "language": "python",
   "name": "python3"
  },
  "language_info": {
   "codemirror_mode": {
    "name": "ipython",
    "version": 3
   },
   "file_extension": ".py",
   "mimetype": "text/x-python",
   "name": "python",
   "nbconvert_exporter": "python",
   "pygments_lexer": "ipython3",
   "version": "3.10.1"
  }
 },
 "nbformat": 4,
 "nbformat_minor": 2
}
